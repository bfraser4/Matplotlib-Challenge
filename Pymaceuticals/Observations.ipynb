{
 "cells": [
  {
   "cell_type": "markdown",
   "metadata": {},
   "source": [
    "# Observations and Insights\n",
    "\n",
    "1. There is a strong positive correlation (.84) between weight and average tumor volume with treatment of the Capomulin regimen. The larger the mouse, the larger the average tumor size. \n",
    "2. The Capomulin regimen line plot showcased that this drug does in fact reduce tumor size over time. \n",
    "3. The distribution of female and male mice was almost equal, which allowed results to be un-skewed based on mouse gender. For example, if there were 80% male and 20% female, we might have seen a different outcome. \n",
    "4. Most of the drugs were tested over an equal timepoint period, Capomulin slightly more because this was the drug that the company was considering purchasing. "
   ]
  }
 ],
 "metadata": {
  "language_info": {
   "name": "python"
  },
  "orig_nbformat": 4
 },
 "nbformat": 4,
 "nbformat_minor": 2
}
