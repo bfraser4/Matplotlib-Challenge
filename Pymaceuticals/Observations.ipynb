{
 "cells": [
  {
   "cell_type": "markdown",
   "metadata": {},
   "source": [
    "# Observations and Insights\n",
    "\n",
    "1. There is a strong positive correlation (.84) between weight and average tumor volume with treatment of the Capomulin regimen. The larger the mouse, the larger the average tumor size. \n",
    "2. "
   ]
  }
 ],
 "metadata": {
  "language_info": {
   "name": "python"
  },
  "orig_nbformat": 4
 },
 "nbformat": 4,
 "nbformat_minor": 2
}
